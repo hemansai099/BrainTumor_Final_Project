{
 "cells": [
  {
   "cell_type": "code",
   "execution_count": 1,
   "id": "36556889",
   "metadata": {},
   "outputs": [
    {
     "name": "stdout",
     "output_type": "stream",
     "text": [
      "Requirement already satisfied: nibabel in c:\\users\\heman\\anaconda3\\envs\\myenv\\lib\\site-packages (5.3.2)\n",
      "Requirement already satisfied: monai in c:\\users\\heman\\anaconda3\\envs\\myenv\\lib\\site-packages (1.4.0)\n",
      "Requirement already satisfied: matplotlib in c:\\users\\heman\\anaconda3\\envs\\myenv\\lib\\site-packages (3.10.1)\n",
      "Requirement already satisfied: tqdm in c:\\users\\heman\\anaconda3\\envs\\myenv\\lib\\site-packages (4.67.1)\n",
      "Requirement already satisfied: scikit-learn in c:\\users\\heman\\anaconda3\\envs\\myenv\\lib\\site-packages (1.6.1)\n",
      "Requirement already satisfied: streamlit in c:\\users\\heman\\anaconda3\\envs\\myenv\\lib\\site-packages (1.44.1)\n",
      "Requirement already satisfied: importlib-resources>=5.12 in c:\\users\\heman\\anaconda3\\envs\\myenv\\lib\\site-packages (from nibabel) (6.5.2)\n",
      "Requirement already satisfied: numpy>=1.22 in c:\\users\\heman\\anaconda3\\envs\\myenv\\lib\\site-packages (from nibabel) (1.26.4)\n",
      "Requirement already satisfied: packaging>=20 in c:\\users\\heman\\anaconda3\\envs\\myenv\\lib\\site-packages (from nibabel) (24.2)\n",
      "Requirement already satisfied: typing-extensions>=4.6 in c:\\users\\heman\\anaconda3\\envs\\myenv\\lib\\site-packages (from nibabel) (4.13.2)\n",
      "Requirement already satisfied: torch>=1.9 in c:\\users\\heman\\anaconda3\\envs\\myenv\\lib\\site-packages (from monai) (2.7.0)\n",
      "Requirement already satisfied: contourpy>=1.0.1 in c:\\users\\heman\\anaconda3\\envs\\myenv\\lib\\site-packages (from matplotlib) (1.3.2)\n",
      "Requirement already satisfied: cycler>=0.10 in c:\\users\\heman\\anaconda3\\envs\\myenv\\lib\\site-packages (from matplotlib) (0.12.1)\n",
      "Requirement already satisfied: fonttools>=4.22.0 in c:\\users\\heman\\anaconda3\\envs\\myenv\\lib\\site-packages (from matplotlib) (4.57.0)\n",
      "Requirement already satisfied: kiwisolver>=1.3.1 in c:\\users\\heman\\anaconda3\\envs\\myenv\\lib\\site-packages (from matplotlib) (1.4.8)\n",
      "Requirement already satisfied: pillow>=8 in c:\\users\\heman\\anaconda3\\envs\\myenv\\lib\\site-packages (from matplotlib) (11.2.1)\n",
      "Requirement already satisfied: pyparsing>=2.3.1 in c:\\users\\heman\\anaconda3\\envs\\myenv\\lib\\site-packages (from matplotlib) (3.2.3)\n",
      "Requirement already satisfied: python-dateutil>=2.7 in c:\\users\\heman\\anaconda3\\envs\\myenv\\lib\\site-packages (from matplotlib) (2.9.0.post0)\n",
      "Requirement already satisfied: colorama in c:\\users\\heman\\anaconda3\\envs\\myenv\\lib\\site-packages (from tqdm) (0.4.6)\n",
      "Requirement already satisfied: scipy>=1.6.0 in c:\\users\\heman\\anaconda3\\envs\\myenv\\lib\\site-packages (from scikit-learn) (1.15.2)\n",
      "Requirement already satisfied: joblib>=1.2.0 in c:\\users\\heman\\anaconda3\\envs\\myenv\\lib\\site-packages (from scikit-learn) (1.4.2)\n",
      "Requirement already satisfied: threadpoolctl>=3.1.0 in c:\\users\\heman\\anaconda3\\envs\\myenv\\lib\\site-packages (from scikit-learn) (3.6.0)\n",
      "Requirement already satisfied: altair<6,>=4.0 in c:\\users\\heman\\anaconda3\\envs\\myenv\\lib\\site-packages (from streamlit) (5.5.0)\n",
      "Requirement already satisfied: blinker<2,>=1.0.0 in c:\\users\\heman\\anaconda3\\envs\\myenv\\lib\\site-packages (from streamlit) (1.9.0)\n",
      "Requirement already satisfied: cachetools<6,>=4.0 in c:\\users\\heman\\anaconda3\\envs\\myenv\\lib\\site-packages (from streamlit) (5.5.2)\n",
      "Requirement already satisfied: click<9,>=7.0 in c:\\users\\heman\\anaconda3\\envs\\myenv\\lib\\site-packages (from streamlit) (8.1.8)\n",
      "Requirement already satisfied: pandas<3,>=1.4.0 in c:\\users\\heman\\anaconda3\\envs\\myenv\\lib\\site-packages (from streamlit) (2.2.3)\n",
      "Requirement already satisfied: protobuf<6,>=3.20 in c:\\users\\heman\\anaconda3\\envs\\myenv\\lib\\site-packages (from streamlit) (5.29.4)\n",
      "Requirement already satisfied: pyarrow>=7.0 in c:\\users\\heman\\anaconda3\\envs\\myenv\\lib\\site-packages (from streamlit) (19.0.1)\n",
      "Requirement already satisfied: requests<3,>=2.27 in c:\\users\\heman\\anaconda3\\envs\\myenv\\lib\\site-packages (from streamlit) (2.32.3)\n",
      "Requirement already satisfied: tenacity<10,>=8.1.0 in c:\\users\\heman\\anaconda3\\envs\\myenv\\lib\\site-packages (from streamlit) (9.1.2)\n",
      "Requirement already satisfied: toml<2,>=0.10.1 in c:\\users\\heman\\anaconda3\\envs\\myenv\\lib\\site-packages (from streamlit) (0.10.2)\n",
      "Requirement already satisfied: watchdog<7,>=2.1.5 in c:\\users\\heman\\anaconda3\\envs\\myenv\\lib\\site-packages (from streamlit) (6.0.0)\n",
      "Requirement already satisfied: gitpython!=3.1.19,<4,>=3.0.7 in c:\\users\\heman\\anaconda3\\envs\\myenv\\lib\\site-packages (from streamlit) (3.1.44)\n",
      "Requirement already satisfied: pydeck<1,>=0.8.0b4 in c:\\users\\heman\\anaconda3\\envs\\myenv\\lib\\site-packages (from streamlit) (0.9.1)\n",
      "Requirement already satisfied: tornado<7,>=6.0.3 in c:\\users\\heman\\anaconda3\\envs\\myenv\\lib\\site-packages (from streamlit) (6.4.2)\n",
      "Requirement already satisfied: jinja2 in c:\\users\\heman\\anaconda3\\envs\\myenv\\lib\\site-packages (from altair<6,>=4.0->streamlit) (3.1.6)\n",
      "Requirement already satisfied: jsonschema>=3.0 in c:\\users\\heman\\anaconda3\\envs\\myenv\\lib\\site-packages (from altair<6,>=4.0->streamlit) (4.23.0)\n",
      "Requirement already satisfied: narwhals>=1.14.2 in c:\\users\\heman\\anaconda3\\envs\\myenv\\lib\\site-packages (from altair<6,>=4.0->streamlit) (1.35.0)\n",
      "Requirement already satisfied: gitdb<5,>=4.0.1 in c:\\users\\heman\\anaconda3\\envs\\myenv\\lib\\site-packages (from gitpython!=3.1.19,<4,>=3.0.7->streamlit) (4.0.12)\n",
      "Requirement already satisfied: pytz>=2020.1 in c:\\users\\heman\\anaconda3\\envs\\myenv\\lib\\site-packages (from pandas<3,>=1.4.0->streamlit) (2025.2)\n",
      "Requirement already satisfied: tzdata>=2022.7 in c:\\users\\heman\\anaconda3\\envs\\myenv\\lib\\site-packages (from pandas<3,>=1.4.0->streamlit) (2025.2)\n",
      "Requirement already satisfied: six>=1.5 in c:\\users\\heman\\anaconda3\\envs\\myenv\\lib\\site-packages (from python-dateutil>=2.7->matplotlib) (1.17.0)\n",
      "Requirement already satisfied: charset-normalizer<4,>=2 in c:\\users\\heman\\anaconda3\\envs\\myenv\\lib\\site-packages (from requests<3,>=2.27->streamlit) (3.4.1)\n",
      "Requirement already satisfied: idna<4,>=2.5 in c:\\users\\heman\\anaconda3\\envs\\myenv\\lib\\site-packages (from requests<3,>=2.27->streamlit) (3.10)\n",
      "Requirement already satisfied: urllib3<3,>=1.21.1 in c:\\users\\heman\\anaconda3\\envs\\myenv\\lib\\site-packages (from requests<3,>=2.27->streamlit) (2.4.0)\n",
      "Requirement already satisfied: certifi>=2017.4.17 in c:\\users\\heman\\anaconda3\\envs\\myenv\\lib\\site-packages (from requests<3,>=2.27->streamlit) (2025.1.31)\n",
      "Requirement already satisfied: filelock in c:\\users\\heman\\anaconda3\\envs\\myenv\\lib\\site-packages (from torch>=1.9->monai) (3.18.0)\n",
      "Requirement already satisfied: sympy>=1.13.3 in c:\\users\\heman\\anaconda3\\envs\\myenv\\lib\\site-packages (from torch>=1.9->monai) (1.13.3)\n",
      "Requirement already satisfied: networkx in c:\\users\\heman\\anaconda3\\envs\\myenv\\lib\\site-packages (from torch>=1.9->monai) (3.4.2)\n",
      "Requirement already satisfied: fsspec in c:\\users\\heman\\anaconda3\\envs\\myenv\\lib\\site-packages (from torch>=1.9->monai) (2025.3.2)\n",
      "Requirement already satisfied: smmap<6,>=3.0.1 in c:\\users\\heman\\anaconda3\\envs\\myenv\\lib\\site-packages (from gitdb<5,>=4.0.1->gitpython!=3.1.19,<4,>=3.0.7->streamlit) (5.0.2)\n",
      "Requirement already satisfied: MarkupSafe>=2.0 in c:\\users\\heman\\anaconda3\\envs\\myenv\\lib\\site-packages (from jinja2->altair<6,>=4.0->streamlit) (3.0.2)\n",
      "Requirement already satisfied: attrs>=22.2.0 in c:\\users\\heman\\anaconda3\\envs\\myenv\\lib\\site-packages (from jsonschema>=3.0->altair<6,>=4.0->streamlit) (25.3.0)\n",
      "Requirement already satisfied: jsonschema-specifications>=2023.03.6 in c:\\users\\heman\\anaconda3\\envs\\myenv\\lib\\site-packages (from jsonschema>=3.0->altair<6,>=4.0->streamlit) (2024.10.1)\n",
      "Requirement already satisfied: referencing>=0.28.4 in c:\\users\\heman\\anaconda3\\envs\\myenv\\lib\\site-packages (from jsonschema>=3.0->altair<6,>=4.0->streamlit) (0.36.2)\n",
      "Requirement already satisfied: rpds-py>=0.7.1 in c:\\users\\heman\\anaconda3\\envs\\myenv\\lib\\site-packages (from jsonschema>=3.0->altair<6,>=4.0->streamlit) (0.24.0)\n",
      "Requirement already satisfied: mpmath<1.4,>=1.1.0 in c:\\users\\heman\\anaconda3\\envs\\myenv\\lib\\site-packages (from sympy>=1.13.3->torch>=1.9->monai) (1.3.0)\n"
     ]
    }
   ],
   "source": [
    "!pip install nibabel monai matplotlib tqdm scikit-learn streamlit"
   ]
  },
  {
   "cell_type": "code",
   "execution_count": 2,
   "id": "19816962",
   "metadata": {},
   "outputs": [],
   "source": [
    "import os, glob\n",
    "import numpy as np\n",
    "import nibabel as nib\n",
    "import matplotlib.pyplot as plt\n",
    "from sklearn.metrics import accuracy_score\n",
    "import torch\n",
    "from torch.utils.data import Dataset, DataLoader\n",
    "from monai.transforms import Compose, ScaleIntensity, ToTensor\n",
    "from monai.networks.nets import UNet\n",
    "from monai.losses import DiceLoss\n",
    "from monai.metrics import DiceMetric\n",
    "from tqdm import tqdm\n"
   ]
  },
  {
   "cell_type": "code",
   "execution_count": 3,
   "id": "3d7dd4d8",
   "metadata": {},
   "outputs": [],
   "source": [
    "class BratsLazyDataset(Dataset):\n",
    "    def __init__(self, subject_dirs, is_validation=False, transform=None):\n",
    "        self.samples = []\n",
    "        self.transform = transform\n",
    "        self.is_validation = is_validation\n",
    "        for subject_path in tqdm(subject_dirs):\n",
    "            subject_id = os.path.basename(subject_path).replace(\"BraTS20_\", \"\")\n",
    "            flair = os.path.join(subject_path, f'BraTS20_{subject_id}_flair.nii')\n",
    "            t1 = os.path.join(subject_path, f'BraTS20_{subject_id}_t1.nii')\n",
    "            t1ce = os.path.join(subject_path, f'BraTS20_{subject_id}_t1ce.nii')\n",
    "            t2 = os.path.join(subject_path, f'BraTS20_{subject_id}_t2.nii')\n",
    "            if not is_validation:\n",
    "                seg = os.path.join(subject_path, f'BraTS20_{subject_id}_seg.nii')\n",
    "                seg_data = nib.load(seg).get_fdata()\n",
    "            else:\n",
    "                seg_data = None\n",
    "            flair_data = nib.load(flair).get_fdata()\n",
    "            for i in range(flair_data.shape[2]):\n",
    "                if not is_validation and np.sum(seg_data[:, :, i]) == 0:\n",
    "                    continue\n",
    "                self.samples.append((flair, t1, t1ce, t2, seg if not is_validation else None, i))\n",
    "\n",
    "    def __len__(self):\n",
    "        return len(self.samples)\n",
    "\n",
    "    def __getitem__(self, idx):\n",
    "        flair, t1, t1ce, t2, seg, slice_idx = self.samples[idx]\n",
    "        flair = nib.load(flair).get_fdata()[:, :, slice_idx]\n",
    "        t1 = nib.load(t1).get_fdata()[:, :, slice_idx]\n",
    "        t1ce = nib.load(t1ce).get_fdata()[:, :, slice_idx]\n",
    "        t2 = nib.load(t2).get_fdata()[:, :, slice_idx]\n",
    "        image = np.stack([flair, t1, t1ce, t2], axis=0)\n",
    "        if self.transform:\n",
    "            image = self.transform(image)\n",
    "        if not self.is_validation:\n",
    "            mask = nib.load(seg).get_fdata()[:, :, slice_idx]\n",
    "            if self.transform:\n",
    "                mask = self.transform(mask)\n",
    "            return image, mask.unsqueeze(0)\n",
    "        else:\n",
    "            return image\n"
   ]
  },
  {
   "cell_type": "code",
   "execution_count": 4,
   "id": "5d46f4a1",
   "metadata": {},
   "outputs": [
    {
     "name": "stderr",
     "output_type": "stream",
     "text": [
      "  0%|          | 0/70 [00:00<?, ?it/s]"
     ]
    },
    {
     "name": "stderr",
     "output_type": "stream",
     "text": [
      "100%|██████████| 70/70 [00:20<00:00,  3.39it/s]\n",
      "100%|██████████| 39/39 [00:03<00:00, 12.12it/s]\n"
     ]
    }
   ],
   "source": [
    "train_path = 'C:/Users/heman/Downloads/archive/BraTS2020_TrainingData/MICCAI_BraTS2020_TrainingData/'\n",
    "all_dirs = sorted(glob.glob(train_path + 'BraTS20_Training_*'))\n",
    "train_dirs = all_dirs[:70]\n",
    "val_dirs = all_dirs[1:40]\n",
    "\n",
    "transform = Compose([ScaleIntensity(), ToTensor()])\n",
    "train_ds = BratsLazyDataset(train_dirs, is_validation=False, transform=transform)\n",
    "val_ds = BratsLazyDataset(val_dirs, is_validation=False, transform=transform)\n",
    "\n",
    "train_loader = DataLoader(train_ds, batch_size=4, shuffle=True, num_workers=0)\n",
    "val_loader = DataLoader(val_ds, batch_size=4, num_workers=0)\n"
   ]
  },
  {
   "cell_type": "code",
   "execution_count": 5,
   "id": "3eeed376",
   "metadata": {},
   "outputs": [],
   "source": [
    "device = torch.device('cuda' if torch.cuda.is_available() else 'cpu')\n",
    "\n",
    "model = UNet(\n",
    "    spatial_dims=2,\n",
    "    in_channels=4,\n",
    "    out_channels=1,\n",
    "    channels=(16, 32, 64, 128, 256),\n",
    "    strides=(2, 2, 2, 2),\n",
    "    num_res_units=2\n",
    ").to(device)\n",
    "\n",
    "loss_fn = DiceLoss(sigmoid=True)\n",
    "optimizer = torch.optim.Adam(model.parameters(), 1e-4)\n"
   ]
  },
  {
   "cell_type": "code",
   "execution_count": 6,
   "id": "0673d9a0",
   "metadata": {},
   "outputs": [
    {
     "name": "stdout",
     "output_type": "stream",
     "text": [
      "Epoch 1\n"
     ]
    },
    {
     "name": "stderr",
     "output_type": "stream",
     "text": [
      "Training: 100%|██████████| 1189/1189 [26:05<00:00,  1.32s/it]\n"
     ]
    },
    {
     "name": "stdout",
     "output_type": "stream",
     "text": [
      "Training Loss: 0.9526\n",
      "Epoch 2\n"
     ]
    },
    {
     "name": "stderr",
     "output_type": "stream",
     "text": [
      "Training: 100%|██████████| 1189/1189 [33:45<00:00,  1.70s/it]\n"
     ]
    },
    {
     "name": "stdout",
     "output_type": "stream",
     "text": [
      "Training Loss: 0.9455\n",
      "Epoch 3\n"
     ]
    },
    {
     "name": "stderr",
     "output_type": "stream",
     "text": [
      "Training: 100%|██████████| 1189/1189 [37:18<00:00,  1.88s/it]\n"
     ]
    },
    {
     "name": "stdout",
     "output_type": "stream",
     "text": [
      "Training Loss: 0.9363\n",
      "Epoch 4\n"
     ]
    },
    {
     "name": "stderr",
     "output_type": "stream",
     "text": [
      "Training: 100%|██████████| 1189/1189 [28:03<00:00,  1.42s/it]\n"
     ]
    },
    {
     "name": "stdout",
     "output_type": "stream",
     "text": [
      "Training Loss: 0.9156\n",
      "Epoch 5\n"
     ]
    },
    {
     "name": "stderr",
     "output_type": "stream",
     "text": [
      "Training: 100%|██████████| 1189/1189 [21:20<00:00,  1.08s/it]\n"
     ]
    },
    {
     "name": "stdout",
     "output_type": "stream",
     "text": [
      "Training Loss: 0.8828\n",
      "Epoch 6\n"
     ]
    },
    {
     "name": "stderr",
     "output_type": "stream",
     "text": [
      "Training: 100%|██████████| 1189/1189 [17:28<00:00,  1.13it/s]\n"
     ]
    },
    {
     "name": "stdout",
     "output_type": "stream",
     "text": [
      "Training Loss: 0.8413\n",
      "Epoch 7\n"
     ]
    },
    {
     "name": "stderr",
     "output_type": "stream",
     "text": [
      "Training: 100%|██████████| 1189/1189 [16:14<00:00,  1.22it/s]\n"
     ]
    },
    {
     "name": "stdout",
     "output_type": "stream",
     "text": [
      "Training Loss: 0.7928\n",
      "Epoch 8\n"
     ]
    },
    {
     "name": "stderr",
     "output_type": "stream",
     "text": [
      "Training: 100%|██████████| 1189/1189 [16:25<00:00,  1.21it/s]\n"
     ]
    },
    {
     "name": "stdout",
     "output_type": "stream",
     "text": [
      "Training Loss: 0.7372\n",
      "Epoch 9\n"
     ]
    },
    {
     "name": "stderr",
     "output_type": "stream",
     "text": [
      "Training: 100%|██████████| 1189/1189 [16:17<00:00,  1.22it/s]\n"
     ]
    },
    {
     "name": "stdout",
     "output_type": "stream",
     "text": [
      "Training Loss: 0.6319\n",
      "Epoch 10\n"
     ]
    },
    {
     "name": "stderr",
     "output_type": "stream",
     "text": [
      "Training: 100%|██████████| 1189/1189 [16:24<00:00,  1.21it/s]"
     ]
    },
    {
     "name": "stdout",
     "output_type": "stream",
     "text": [
      "Training Loss: 0.5175\n"
     ]
    },
    {
     "name": "stderr",
     "output_type": "stream",
     "text": [
      "\n"
     ]
    }
   ],
   "source": [
    "train_losses = []\n",
    "\n",
    "for epoch in range(10):\n",
    "    print(f\"Epoch {epoch+1}\")\n",
    "    model.train()\n",
    "    epoch_loss = 0\n",
    "    for batch_data in tqdm(train_loader, desc=\"Training\"):\n",
    "        inputs, labels = batch_data[0].float().to(device), batch_data[1].float().to(device)\n",
    "        optimizer.zero_grad()\n",
    "        outputs = model(inputs)\n",
    "        loss = loss_fn(outputs, labels)\n",
    "        loss.backward()\n",
    "        optimizer.step()\n",
    "        epoch_loss += loss.item()\n",
    "    avg_loss = epoch_loss / len(train_loader)\n",
    "    train_losses.append(avg_loss)\n",
    "    print(f\"Training Loss: {avg_loss:.4f}\")\n"
   ]
  },
  {
   "cell_type": "code",
   "execution_count": 7,
   "id": "12c4251a",
   "metadata": {},
   "outputs": [
    {
     "name": "stdout",
     "output_type": "stream",
     "text": [
      "✅ Final model saved!\n"
     ]
    }
   ],
   "source": [
    "torch.save(model.state_dict(), \"unet_brats20_final.pth\")\n",
    "print(\"✅ Final model saved!\")\n"
   ]
  },
  {
   "cell_type": "code",
   "execution_count": 8,
   "id": "a4a57c41",
   "metadata": {},
   "outputs": [
    {
     "name": "stderr",
     "output_type": "stream",
     "text": [
      "Validating: 100%|██████████| 638/638 [08:35<00:00,  1.24it/s]\n"
     ]
    },
    {
     "name": "stdout",
     "output_type": "stream",
     "text": [
      "✅ Final Validation Dice Score: 0.4452\n"
     ]
    }
   ],
   "source": [
    "model.eval()\n",
    "dice_metric = DiceMetric(include_background=True, reduction=\"mean\")\n",
    "all_preds, all_labels = [], []\n",
    "\n",
    "with torch.no_grad():\n",
    "    for batch_data in tqdm(val_loader, desc=\"Validating\"):\n",
    "        inputs, labels = batch_data[0].float().to(device), batch_data[1].float().to(device)\n",
    "        outputs = model(inputs)\n",
    "        preds = (outputs > 0.5).float()\n",
    "        dice_metric(y_pred=preds, y=labels)\n",
    "        all_preds.append(preds.cpu().numpy())\n",
    "        all_labels.append(labels.cpu().numpy())\n",
    "\n",
    "val_dice = dice_metric.aggregate().item()\n",
    "dice_metric.reset()\n",
    "\n",
    "y_true = np.concatenate([l.flatten() for l in all_labels])\n",
    "y_pred = np.concatenate([p.flatten() for p in all_preds])\n",
    "y_pred = (y_pred > 0.5).astype(np.uint8)\n",
    "\n",
    "\n",
    "print(f\"✅ Final Validation Dice Score: {val_dice:.4f}\")\n"
   ]
  },
  {
   "cell_type": "code",
   "execution_count": 9,
   "id": "7de98918",
   "metadata": {},
   "outputs": [
    {
     "data": {
      "image/png": "[encoded data removed]",
      "text/plain": [
       "<Figure size 640x480 with 1 Axes>"
      ]
     },
     "metadata": {},
     "output_type": "display_data"
    }
   ],
   "source": [
    "plt.plot(train_losses, marker='o')\n",
    "plt.title(\"Training Loss Over Epochs\")\n",
    "plt.xlabel(\"Epoch\")\n",
    "plt.ylabel(\"Loss\")\n",
    "plt.grid(True)\n",
    "plt.show()"
   ]
  },
  {
   "cell_type": "code",
   "execution_count": 11,
   "id": "07970f19",
   "metadata": {},
   "outputs": [],
   "source": [
    "\n",
    "# 🧠 STEP 2: Region-Specific Segmentation (3-class)\n",
    "from monai.networks.nets import UNet\n",
    "import torch.nn as nn\n",
    "\n",
    "model = UNet(\n",
    "    spatial_dims=2,\n",
    "    in_channels=4,\n",
    "    out_channels=3,  # edema, core, enhancing\n",
    "    channels=(16, 32, 64, 128, 256),\n",
    "    strides=(2, 2, 2, 2),\n",
    "    num_res_units=2\n",
    ")\n",
    "\n",
    "loss_fn = nn.CrossEntropyLoss()\n",
    "\n",
    "def convert_to_multiclass(mask):\n",
    "    mask_out = np.zeros_like(mask, dtype=np.uint8)\n",
    "    mask_out[mask == 1] = 0  # edema\n",
    "    mask_out[mask == 2] = 1  # core\n",
    "    mask_out[mask == 4] = 2  # enhancing\n",
    "    return mask_out\n"
   ]
  },
  {
   "cell_type": "code",
   "execution_count": 12,
   "id": "cb0bddc4",
   "metadata": {},
   "outputs": [],
   "source": [
    "\n",
    "# 🔍 STEP 3: Visual Comparison\n",
    "import matplotlib.pyplot as plt\n",
    "\n",
    "def visualize_prediction_vs_ground_truth(img, pred_mask, true_mask, slice_idx=77):\n",
    "    fig, axs = plt.subplots(1, 3, figsize=(18, 6))\n",
    "    axs[0].imshow(img[:, :, slice_idx], cmap='gray')\n",
    "    axs[0].set_title('Input MRI (FLAIR)')\n",
    "    \n",
    "    axs[1].imshow(true_mask[:, :, slice_idx], cmap='jet')\n",
    "    axs[1].set_title('Ground Truth')\n",
    "    \n",
    "    axs[2].imshow(pred_mask[:, :, slice_idx], cmap='jet')\n",
    "    axs[2].set_title('Predicted')\n",
    "    \n",
    "    for ax in axs:\n",
    "        ax.axis('off')\n",
    "    plt.tight_layout()\n",
    "    plt.show()\n"
   ]
  },
  {
   "cell_type": "code",
   "execution_count": 16,
   "id": "a8299b01",
   "metadata": {},
   "outputs": [
    {
     "name": "stdout",
     "output_type": "stream",
     "text": [
      "Collecting ipywidgets\n",
      "  Downloading ipywidgets-8.1.6-py3-none-any.whl.metadata (2.4 kB)\n",
      "Requirement already satisfied: comm>=0.1.3 in c:\\users\\heman\\anaconda3\\envs\\myenv\\lib\\site-packages (from ipywidgets) (0.2.2)\n",
      "Requirement already satisfied: ipython>=6.1.0 in c:\\users\\heman\\anaconda3\\envs\\myenv\\lib\\site-packages (from ipywidgets) (8.35.0)\n",
      "Requirement already satisfied: traitlets>=4.3.1 in c:\\users\\heman\\anaconda3\\envs\\myenv\\lib\\site-packages (from ipywidgets) (5.14.3)\n",
      "Collecting widgetsnbextension~=4.0.14 (from ipywidgets)\n",
      "  Downloading widgetsnbextension-4.0.14-py3-none-any.whl.metadata (1.6 kB)\n",
      "Collecting jupyterlab_widgets~=3.0.14 (from ipywidgets)\n",
      "  Downloading jupyterlab_widgets-3.0.14-py3-none-any.whl.metadata (4.1 kB)\n",
      "Requirement already satisfied: colorama in c:\\users\\heman\\anaconda3\\envs\\myenv\\lib\\site-packages (from ipython>=6.1.0->ipywidgets) (0.4.6)\n",
      "Requirement already satisfied: decorator in c:\\users\\heman\\anaconda3\\envs\\myenv\\lib\\site-packages (from ipython>=6.1.0->ipywidgets) (5.2.1)\n",
      "Requirement already satisfied: exceptiongroup in c:\\users\\heman\\anaconda3\\envs\\myenv\\lib\\site-packages (from ipython>=6.1.0->ipywidgets) (1.2.2)\n",
      "Requirement already satisfied: jedi>=0.16 in c:\\users\\heman\\anaconda3\\envs\\myenv\\lib\\site-packages (from ipython>=6.1.0->ipywidgets) (0.19.2)\n",
      "Requirement already satisfied: matplotlib-inline in c:\\users\\heman\\anaconda3\\envs\\myenv\\lib\\site-packages (from ipython>=6.1.0->ipywidgets) (0.1.7)\n",
      "Requirement already satisfied: prompt_toolkit<3.1.0,>=3.0.41 in c:\\users\\heman\\anaconda3\\envs\\myenv\\lib\\site-packages (from ipython>=6.1.0->ipywidgets) (3.0.51)\n",
      "Requirement already satisfied: pygments>=2.4.0 in c:\\users\\heman\\anaconda3\\envs\\myenv\\lib\\site-packages (from ipython>=6.1.0->ipywidgets) (2.19.1)\n",
      "Requirement already satisfied: stack_data in c:\\users\\heman\\anaconda3\\envs\\myenv\\lib\\site-packages (from ipython>=6.1.0->ipywidgets) (0.6.3)\n",
      "Requirement already satisfied: typing_extensions>=4.6 in c:\\users\\heman\\anaconda3\\envs\\myenv\\lib\\site-packages (from ipython>=6.1.0->ipywidgets) (4.13.2)\n",
      "Requirement already satisfied: parso<0.9.0,>=0.8.4 in c:\\users\\heman\\anaconda3\\envs\\myenv\\lib\\site-packages (from jedi>=0.16->ipython>=6.1.0->ipywidgets) (0.8.4)\n",
      "Requirement already satisfied: wcwidth in c:\\users\\heman\\anaconda3\\envs\\myenv\\lib\\site-packages (from prompt_toolkit<3.1.0,>=3.0.41->ipython>=6.1.0->ipywidgets) (0.2.13)\n",
      "Requirement already satisfied: executing>=1.2.0 in c:\\users\\heman\\anaconda3\\envs\\myenv\\lib\\site-packages (from stack_data->ipython>=6.1.0->ipywidgets) (2.1.0)\n",
      "Requirement already satisfied: asttokens>=2.1.0 in c:\\users\\heman\\anaconda3\\envs\\myenv\\lib\\site-packages (from stack_data->ipython>=6.1.0->ipywidgets) (3.0.0)\n",
      "Requirement already satisfied: pure_eval in c:\\users\\heman\\anaconda3\\envs\\myenv\\lib\\site-packages (from stack_data->ipython>=6.1.0->ipywidgets) (0.2.3)\n",
      "Downloading ipywidgets-8.1.6-py3-none-any.whl (139 kB)\n",
      "Downloading jupyterlab_widgets-3.0.14-py3-none-any.whl (213 kB)\n",
      "Downloading widgetsnbextension-4.0.14-py3-none-any.whl (2.2 MB)\n",
      "   ---------------------------------------- 0.0/2.2 MB ? eta -:--:--\n",
      "   ---------------------------------------- 2.2/2.2 MB 12.4 MB/s eta 0:00:00\n",
      "Installing collected packages: widgetsnbextension, jupyterlab_widgets, ipywidgets\n",
      "Successfully installed ipywidgets-8.1.6 jupyterlab_widgets-3.0.14 widgetsnbextension-4.0.14\n",
      "Note: you may need to restart the kernel to use updated packages.\n"
     ]
    }
   ],
   "source": [
    "%pip install ipywidgets\n",
    "import matplotlib.pyplot as plt\n",
    "import ipywidgets as widgets\n",
    "from IPython.display import display\n",
    "\n",
    "def show_3d_volume(volume, title=\"Volume\", cmap='gray'):\n",
    "    def plot_slice(idx):\n",
    "        plt.figure(figsize=(6, 6))\n",
    "        plt.imshow(volume[:, :, idx], cmap=cmap)\n",
    "        plt.title(f\"{title} - Slice {idx}\")\n",
    "        plt.axis('off')\n",
    "        plt.show()\n",
    "\n",
    "    slice_slider = widgets.IntSlider(min=0, max=volume.shape[2]-1, step=1, value=volume.shape[2]//2)\n",
    "    widgets.interact(plot_slice, idx=slice_slider)\n"
   ]
  }
 ],
 "metadata": {
  "kernelspec": {
   "display_name": "myenv",
   "language": "python",
   "name": "python3"
  },
  "language_info": {
   "codemirror_mode": {
    "name": "ipython",
    "version": 3
   },
   "file_extension": ".py",
   "mimetype": "text/x-python",
   "name": "python",
   "nbconvert_exporter": "python",
   "pygments_lexer": "ipython3",
   "version": "3.10.14"
  }
 },
 "nbformat": 4,
 "nbformat_minor": 5
}
